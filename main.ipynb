{
 "cells": [
  {
   "cell_type": "markdown",
   "metadata": {},
   "source": [
    "Буду парсить wb с помощью селентиума. Так как так и не смог получить код страницы с помощью request(антипарсинг система хорошо работает). Я парсил мототехнику(очень хочется покататься(нет))."
   ]
  },
  {
   "cell_type": "code",
   "execution_count": null,
   "metadata": {
    "vscode": {
     "languageId": "plaintext"
    }
   },
   "outputs": [],
   "source": [
    "from selenium import webdriver\n",
    "from selenium.webdriver.chrome.service import Service\n",
    "from selenium.webdriver.common.by import By\n",
    "from selenium.webdriver.chrome.options import Options\n",
    "from selenium.webdriver.support.ui import WebDriverWait\n",
    "from selenium.webdriver.support import expected_conditions as EC\n",
    "import csv\n",
    "\n",
    "def parse(p : int = 1):\n",
    "    p = str(p)\n",
    "    res = []\n",
    "    # Настройки для использования Chrome\n",
    "    chrome_options = Options()\n",
    "    chrome_options.add_argument(\"--headless\")  # Запуск в фоновом режиме\n",
    "    chrome_options.add_argument(\"--no-sandbox\")\n",
    "    chrome_options.add_argument(\"--disable-dev-shm-usage\")\n",
    "    # Создаем экземпляр сервиса ChromeDriver\n",
    "    service = Service()\n",
    "    # Инициализируем драйвер\n",
    "    driver = webdriver.Chrome(service=service, options=chrome_options)\n",
    "    try:\n",
    "        # Переход на страницу\n",
    "        driver.get(f'https://www.wildberries.ru/catalog/transportnye-sredstva/mototekxnika?page={p}')\n",
    "        try:\n",
    "            WebDriverWait(driver, 10).until(\n",
    "                EC.presence_of_element_located((By.CSS_SELECTOR, \".product-card\"))\n",
    "            )\n",
    "        except:\n",
    "            return []\n",
    "        # Получение всех элементов \n",
    "        cars = driver.find_elements(By.CSS_SELECTOR, '.product-card')  # Проверьте корректность селектора\n",
    "        # проходимся по всем предложениям\n",
    "        for car in cars:\n",
    "            buf = []\n",
    "            buf.append(car.find_element(By.CSS_SELECTOR, '.product-card__name').text)\n",
    "            buf.append(car.find_element(By.CSS_SELECTOR, '.price').text)\n",
    "            buf.append(car.find_element(By.CSS_SELECTOR, '.btn-text').text)\n",
    "            buf.append(car.find_element(By.CSS_SELECTOR, \".product-card__link\").get_attribute(\"href\").split(\"/\")[-2])\n",
    "            res.append(buf)\n",
    "    finally:\n",
    "        driver.quit()  # Закрываем браузер\n",
    "    return res\n",
    "\n",
    "def main():\n",
    "    result = []\n",
    "    n = 1\n",
    "    while True:\n",
    "        buf = parse(n)\n",
    "        if not buf:\n",
    "            break\n",
    "        result+=buf  # Добавляем все товары на странице\n",
    "        n += 1\n",
    "    # Открываем файл с указанием кодировки utf-8\n",
    "    with open(\"data.csv\", \"w\", newline=\"\", encoding=\"utf-8\") as file:\n",
    "        writer = csv.writer(file)\n",
    "        writer.writerows(result)\n",
    "    \n",
    "if __name__ == \"__main__\":\n",
    "    main()"
   ]
  }
 ],
 "metadata": {
  "language_info": {
   "name": "python"
  }
 },
 "nbformat": 4,
 "nbformat_minor": 2
}
