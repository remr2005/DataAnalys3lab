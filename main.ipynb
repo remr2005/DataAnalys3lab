{
 "cells": [
  {
   "cell_type": "markdown",
   "metadata": {},
   "source": [
    "Буду парсить wb с помощью селентиума. Так как так и не смог получить код страницы с помощью request(антипарсинг система хорошо работает). Я парсил мототехнику(очень хочется покататься(нет))."
   ]
  },
  {
   "cell_type": "code",
   "execution_count": 2,
   "metadata": {},
   "outputs": [],
   "source": [
    "from selenium import webdriver\n",
    "from selenium.webdriver.chrome.service import Service\n",
    "from selenium.webdriver.common.by import By\n",
    "from selenium.webdriver.chrome.options import Options\n",
    "from selenium.webdriver.support.ui import WebDriverWait\n",
    "from selenium.webdriver.support import expected_conditions as EC\n",
    "import csv\n",
    "import datetime\n",
    "\n",
    "dict = {\"января\":\"1\",\"февраля\":\"2\",\"марта\":\"3\",\"апреля\":\"4\",\"мая\":\"5\",\"июня\":\"6\",\"июля\":\"7\",\"августа\":\"8\",\"сентября\":\"9\",\"октября\":\"10\",\"ноября\":\"11\",\"декабря\":\"12\"}\n",
    "\n",
    "def parse(p : int = 1):\n",
    "    p = str(p)\n",
    "    res = []\n",
    "    # Настройки для использования Chrome\n",
    "    chrome_options = Options()\n",
    "    chrome_options.add_argument(\"--headless\")  # Запуск в фоновом режиме\n",
    "    chrome_options.add_argument(\"--no-sandbox\")\n",
    "    chrome_options.add_argument(\"--disable-dev-shm-usage\")\n",
    "    # Создаем экземпляр сервиса ChromeDriver\n",
    "    service = Service()\n",
    "    # Инициализируем драйвер\n",
    "    driver = webdriver.Chrome(service=service, options=chrome_options)\n",
    "    try:\n",
    "        # Переход на страницу\n",
    "        driver.get(f'https://www.wildberries.ru/catalog/transportnye-sredstva/mototekxnika?page={p}')\n",
    "        try:\n",
    "            WebDriverWait(driver, 10).until(\n",
    "                EC.presence_of_element_located((By.CSS_SELECTOR, \".product-card\"))\n",
    "            )\n",
    "        except:\n",
    "            return []\n",
    "        # Получение всех элементов \n",
    "        cars = driver.find_elements(By.CSS_SELECTOR, '.product-card')  # Проверьте корректность селектора\n",
    "        # проходимся по всем предложениям\n",
    "        for car in cars:\n",
    "            buf = []            \n",
    "            buf.append(car.find_element(By.CSS_SELECTOR, \".product-card__link\").get_attribute(\"href\").split(\"/\")[-2])\n",
    "            buf.append(car.find_element(By.CSS_SELECTOR, '.product-card__name').text)\n",
    "            buf.append(car.find_element(By.CSS_SELECTOR, '.price').text)\n",
    "            data=car.find_element(By.CSS_SELECTOR, '.btn-text').text\n",
    "            if data == \"Послезавтра\":\n",
    "                data = datetime.date.today() + datetime.timedelta(days=2)\n",
    "            elif data == \"Завтра\":\n",
    "                data = datetime.date.today() + datetime.timedelta(days=1)\n",
    "            else:\n",
    "                arr=data.split()\n",
    "                d = int(arr[0]) \n",
    "                m = int(dict[arr[1]])\n",
    "                a = datetime.datetime.today().year \n",
    "                data = datetime.date(a,m,d) if datetime.datetime(a,m,d)>datetime.datetime.today() else datetime.date(a+1,m,d)\n",
    "            buf.append(data.strftime(\"%m.%d.%y\"))\n",
    "            res.append(buf)\n",
    "    finally:\n",
    "        driver.quit()  # Закрываем браузер\n",
    "    return res\n",
    "\n",
    "def main():\n",
    "    result = []\n",
    "    n = 1\n",
    "    while True:\n",
    "        buf = parse(n)\n",
    "        if not buf:\n",
    "            break\n",
    "        result+=buf  # Добавляем все товары на странице\n",
    "        n += 1\n",
    "    # Открываем файл с указанием кодировки utf-8\n",
    "    with open(\"data.csv\", \"w\", newline=\"\", encoding=\"utf-8\") as file:\n",
    "        writer = csv.writer(file)\n",
    "        writer.writerows(result)\n",
    "    \n",
    "if __name__ == \"__main__\":\n",
    "    main()"
   ]
  },
  {
   "cell_type": "markdown",
   "metadata": {},
   "source": [
    "А теперь расшифруем csv файл и выведем на экран только те товары ыкоторые смогут прийти к нам за 10 дней."
   ]
  },
  {
   "cell_type": "code",
   "execution_count": 19,
   "metadata": {},
   "outputs": [
    {
     "name": "stdout",
     "output_type": "stream",
     "text": [
      "250226924,/ Грузовой электротрицикл D4 NEXT 1800 60V 1200W,269 700 ₽,09.29.24\n",
      "250251745,/ Грузовой электрический трицикл Гибрид 1500 60V 1000W,289 700 ₽,09.29.24\n",
      "250250226,/ Грузовой электрический трицикл Гибрид 1500 60V 1000W,289 700 ₽,09.29.24\n",
      "250207143,/ Грузовой электротрицикл D4 NEXT 1800 60V 1200W,269 700 ₽,09.29.24\n",
      "258084857,/ Элeктpичeский Гольфкap HS2DGF-3, Электрокар,899 000 ₽,10.03.24\n"
     ]
    }
   ],
   "source": [
    "def main():\n",
    "    with open('data.csv', 'r', newline='') as csvfile:\n",
    "        spamreader = csv.reader(csvfile, delimiter=',')\n",
    "        for row in spamreader:\n",
    "            date=row[-1].split(\".\")\n",
    "            date = datetime.datetime(int(\"20\"+date[-1]),int(date[0]),int(date[1]))\n",
    "            if date<=datetime.datetime.today()+datetime.timedelta(days=10):\n",
    "                print(\", \".join(row))\n",
    "\n",
    "\n",
    "if __name__==\"__main__\":\n",
    "    main()"
   ]
  }
 ],
 "metadata": {
  "kernelspec": {
   "display_name": ".venv",
   "language": "python",
   "name": "python3"
  },
  "language_info": {
   "codemirror_mode": {
    "name": "ipython",
    "version": 3
   },
   "file_extension": ".py",
   "mimetype": "text/x-python",
   "name": "python",
   "nbconvert_exporter": "python",
   "pygments_lexer": "ipython3",
   "version": "3.10.12"
  }
 },
 "nbformat": 4,
 "nbformat_minor": 2
}
